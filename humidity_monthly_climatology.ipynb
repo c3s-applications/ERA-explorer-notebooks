{
 "cells": [
  {
   "cell_type": "code",
   "execution_count": 2,
   "metadata": {},
   "outputs": [
    {
     "name": "stderr",
     "output_type": "stream",
     "text": [
      "2024-12-10 15:28:45,234 INFO [2024-07-18T00:00:00] Remember that you need to have an ECMWF account to use CDS-Beta. **Your existing CDS credentials will not work in CDS-Beta!**\n",
      "2024-12-10 15:28:45,235 WARNING [2024-06-16T00:00:00] CDS API syntax is changed and some keys or parameter names may have also changed. To avoid requests failing, please use the \"Show API request code\" tool on the dataset Download Form to check you are using the correct syntax for your API request.\n",
      "2024-12-10 15:28:45,235 WARNING [2024-06-16T00:00:00] Check our [informative page](https://confluence.ecmwf.int/x/uINmFw) to best prepare yourself to use CDS-Beta.\n",
      "2024-12-10 15:28:45,235 WARNING [2024-06-16T00:00:00] **BETA version** of the new CDS. Your [feedback](https://jira.ecmwf.int/plugins/servlet/desk/portal/1/create/202) is very useful for us. **Please notice** that access to the system might suffer some disruptions due to evolving updates.\n"
     ]
    },
    {
     "name": "stdout",
     "output_type": "stream",
     "text": [
      "{'variable': ['2m_temperature'], 'date': ['1991-01-01/2020-12-31'], 'location': {'longitude': 4.35, 'latitude': 50.86}, 'data_format': 'netcdf'}\n",
      "2m_temperature_1991-01-01_2020-12-31_50.86_4.35.nc\n"
     ]
    },
    {
     "name": "stderr",
     "output_type": "stream",
     "text": [
      "2024-12-10 15:28:45,363 INFO Request ID is a242f56e-07c0-4889-94bc-a66d6c7109bf\n",
      "2024-12-10 15:28:45,409 INFO status has been updated to accepted\n",
      "2024-12-10 15:28:46,460 INFO status has been updated to running\n",
      "2024-12-10 15:28:48,019 INFO status has been updated to successful\n",
      "2024-12-10 15:28:48,861 INFO [2024-07-18T00:00:00] Remember that you need to have an ECMWF account to use CDS-Beta. **Your existing CDS credentials will not work in CDS-Beta!**\n",
      "2024-12-10 15:28:48,862 WARNING [2024-06-16T00:00:00] CDS API syntax is changed and some keys or parameter names may have also changed. To avoid requests failing, please use the \"Show API request code\" tool on the dataset Download Form to check you are using the correct syntax for your API request.\n",
      "2024-12-10 15:28:48,862 WARNING [2024-06-16T00:00:00] Check our [informative page](https://confluence.ecmwf.int/x/uINmFw) to best prepare yourself to use CDS-Beta.\n",
      "2024-12-10 15:28:48,862 WARNING [2024-06-16T00:00:00] **BETA version** of the new CDS. Your [feedback](https://jira.ecmwf.int/plugins/servlet/desk/portal/1/create/202) is very useful for us. **Please notice** that access to the system might suffer some disruptions due to evolving updates.\n"
     ]
    },
    {
     "name": "stdout",
     "output_type": "stream",
     "text": [
      "Retrieving data in to:  2m_temperature_1991-01-01_2020-12-31_50.86_4.35.nc\n",
      "{'variable': ['2m_dewpoint_temperature'], 'date': ['1991-01-01/2020-12-31'], 'location': {'longitude': 4.35, 'latitude': 50.86}, 'data_format': 'netcdf'}\n",
      "2m_dewpoint_temperature_1991-01-01_2020-12-31_50.86_4.35.nc\n"
     ]
    },
    {
     "name": "stderr",
     "output_type": "stream",
     "text": [
      "2024-12-10 15:28:49,044 INFO Request ID is cb409d89-6d76-48aa-a122-5007e5a9084c\n",
      "2024-12-10 15:28:49,095 INFO status has been updated to accepted\n",
      "2024-12-10 15:28:50,148 INFO status has been updated to running\n",
      "2024-12-10 15:28:51,700 INFO status has been updated to successful\n",
      "                                                                                        "
     ]
    },
    {
     "name": "stdout",
     "output_type": "stream",
     "text": [
      "Retrieving data in to:  2m_dewpoint_temperature_1991-01-01_2020-12-31_50.86_4.35.nc\n"
     ]
    },
    {
     "name": "stderr",
     "output_type": "stream",
     "text": [
      "\r"
     ]
    }
   ],
   "source": [
    "from datetime import datetime\n",
    "import numpy as np\n",
    "import pandas as pd\n",
    "import xarray as xr\n",
    "import matplotlib.pyplot as plt\n",
    "from utilities import retrieve_data\n",
    "import calendar\n",
    "\n",
    "ERA_VERSION = 'ERA5'  # One day this will change to ERA6\n",
    "\n",
    "# ====================\n",
    "# To get a CDS API key, sign up at https://cds.climate.copernicus.eu/\n",
    "# It is free and easy! After registering, copy your \"Personal Access Token here\"\n",
    "# ====================\n",
    "KEY = '############################'\n",
    "KEY = '6cc2b53b-e3c0-42fd-b7ad-db64aeeb5298'\n",
    "KEY = '8f3ee43a-fa64-4eb9-a403-6567171bb625'\n",
    "\n",
    "# ====================\n",
    "# Change these to plot different locations. You can see the currently used ones in the ERA Explorer URL\n",
    "# ====================\n",
    "lat = 50.86  # Default latitude\n",
    "lng = 4.35  # Default longitude\n",
    "\n",
    "# ====================\n",
    "# These can be changed to get different data; leave them for now\n",
    "# ====================\n",
    "variable = \"2m_temperature\"\n",
    "date_range = [\"1991-01-01\", \"2020-12-31\"]\n",
    "\n",
    "# ====================\n",
    "# Get the data. This will download a NetCDF file\n",
    "# ====================\n",
    "data_file = retrieve_data(KEY, variable, date_range, lat, lng)\n",
    "\n",
    "# ====================\n",
    "# To calculate relative humidity we need dewpoint temperature as well\n",
    "# ====================\n",
    "variable2 = \"2m_dewpoint_temperature\"\n",
    "data_file2 = retrieve_data(KEY, variable2, date_range, lat, lng)\n"
   ]
  },
  {
   "cell_type": "code",
   "execution_count": 3,
   "metadata": {},
   "outputs": [],
   "source": [
    "# Define a function to calculate relative humidity\n",
    "def calculate_rh(data_d2m_pt, data_t2m_pt, method):\n",
    "    \"\"\"\n",
    "    Calculate relative humidity using specified method.\n",
    "    Parameters:\n",
    "    data_d2m_pt (numpy.ndarray): Dew point temperature data in Kelvin.\n",
    "    data_t2m_pt (numpy.ndarray): Air temperature data in Kelvin.\n",
    "    method (str): Method to use for calculation. Options are \"August-Roche-Magnus\" or \"Clausius-Clapeyron\".\n",
    "    Returns:\n",
    "    numpy.ndarray: Calculated relative humidity as a percentage.\n",
    "    Raises:\n",
    "    ValueError: If an invalid method is specified.\n",
    "    \"\"\"\n",
    "\n",
    "    # Convert temperatures from Kelvin to Celsius\n",
    "    data_t2m_pt -= 273.15\n",
    "    data_d2m_pt -= 273.15\n",
    "\n",
    "    if (method == \"August-Roche-Magnus\"):\n",
    "        # Values are calculated using the August-Roche-Magnus approximation.\n",
    "        numerator = np.exp((17.625 * (data_d2m_pt)) / (243.04 + (data_d2m_pt)))\n",
    "        denominator = np.exp((17.625 * (data_t2m_pt)) / (243.04 + (data_t2m_pt)))\n",
    "        rh = (numerator * 100)/denominator\n",
    "    elif (method == \"Clausius-Clapeyron\"):\n",
    "        # Values are calculated using the Clausius-Clapeyron relation.\n",
    "        numerator = 6.11 * 10 ^ (7.5 * ((data_d2m_pt)/(237.7 + data_d2m_pt)))\n",
    "        denominator = 6.11 * 10 ^ (7.5 * ((data_t2m_pt)/(237.7 + data_t2m_pt)))\n",
    "        rh = (numerator * 100)/denominator\n",
    "    else:\n",
    "        raise ValueError(\"Invalid method specified\")\n",
    "\n",
    "    return rh\n",
    "\n",
    "# Make a function to compute the humidity monthly climatology\n",
    "def humidityMonthlyClimatology():\n",
    "    \"\"\"\n",
    "    Calculate the monthly climatology of relative humidity.\n",
    "    This function reads temperature and dew point temperature data from NetCDF files,\n",
    "    calculates the relative humidity using the specified method, and then computes\n",
    "    the monthly climatology of daily minimum and maximum relative humidity.\n",
    "    Returns:\n",
    "        pandas.DataFrame: A DataFrame containing the monthly climatological averages\n",
    "                          for daily minimum and maximum relative humidity.\n",
    "    \"\"\"\n",
    " \n",
    "    data_t2m_pt = xr.open_dataset(data_file).t2m\n",
    "    data_d2m_pt = xr.open_dataset(data_file2).d2m\n",
    "\n",
    "    # Specify the method for calculating relative humidity\n",
    "    method = \"August-Roche-Magnus\"\n",
    "\n",
    "    # Calculate relative humidity\n",
    "    data_rh_pt = calculate_rh(data_d2m_pt, data_t2m_pt, method)\n",
    "\n",
    "    # Convert the time coordinate to a pandas datetime index\n",
    "    time_index = pd.to_datetime(data_rh_pt.valid_time.values)\n",
    "    \n",
    "    # Create a DataFrame for easier manipulation\n",
    "    df = pd.DataFrame(data_rh_pt.values, index=time_index, columns=['rh'])\n",
    "    \n",
    "    # Resample to find daily minimum and maximum\n",
    "    daily_min = df.resample('D').min()\n",
    "    daily_max = df.resample('D').max()\n",
    "    \n",
    "    # Combine the daily min and max into a single DataFrame\n",
    "    daily_stats = pd.DataFrame({\n",
    "        'daily_min': daily_min['rh'],\n",
    "        'daily_max': daily_max['rh']\n",
    "    })\n",
    "\n",
    "    # Extract the month from DateTimeIndex\n",
    "    daily_stats['month'] = daily_stats.index.month\n",
    "    \n",
    "    # Group by month and calculate climatological averages for daily min and max\n",
    "    grouped_by_month = daily_stats.groupby('month')\n",
    "    monthly_climatology = grouped_by_month.mean()\n",
    "    \n",
    "    return monthly_climatology\n",
    "    \n",
    "# Call our function\n",
    "clim = humidityMonthlyClimatology()"
   ]
  },
  {
   "cell_type": "code",
   "execution_count": 4,
   "metadata": {},
   "outputs": [
    {
     "data": {
      "image/png": "[encoded data removed]",
      "text/plain": [
       "<Figure size 800x600 with 1 Axes>"
      ]
     },
     "metadata": {},
     "output_type": "display_data"
    }
   ],
   "source": [
    "# Make the plot\n",
    "lw = 2\n",
    "marker = 'o'\n",
    "markersize = 4\n",
    "\n",
    "latSuffix = 'N' if lat > 0 else 'S'\n",
    "lngSuffix = 'E' if lng > 0 else 'W'\n",
    "\n",
    "plt.figure(figsize=(8, 6))\n",
    "\n",
    "# Plot the data as a bar chart\n",
    "bars = plt.bar(\n",
    "    clim.index,\n",
    "    clim['daily_max'] - clim['daily_min'],\n",
    "    bottom=clim['daily_min'],\n",
    "    width=0.8,\n",
    "    color='#76787B',\n",
    "    edgecolor='white',\n",
    "    label=f'{abs(lat):.2f} °{latSuffix:s}, {abs(lng):.2f} °{lngSuffix:s}'\n",
    ")\n",
    "\n",
    "# Add labels to each bar\n",
    "for index, bar in enumerate(bars):\n",
    "    daily_min = clim['daily_min'].iloc[index]\n",
    "    daily_max = clim['daily_max'].iloc[index]\n",
    "    \n",
    "    # Compute positions for the text\n",
    "    x = bar.get_x() + bar.get_width() / 2  # Center of the bar\n",
    "    \n",
    "    # Add the labels (daily_min and daily_max) on two lines\n",
    "    plt.text(\n",
    "        x,  # X position\n",
    "        bar.get_y() + 0.5,\n",
    "        f'{daily_min:.0f}',  # Label text with new line\n",
    "        ha='center',  # Center horizontally\n",
    "        va='bottom',  # Align below the top of the bar\n",
    "        fontsize=10,  # Font size\n",
    "        color='black'  # Text color\n",
    "    )\n",
    "\n",
    "     # Add the labels (daily_min and daily_max) on two lines\n",
    "    plt.text(\n",
    "        x,  # X position\n",
    "        bar.get_height() + bar.get_y() - 1,\n",
    "        f'{daily_max:.0f}',  # Label text with new line\n",
    "        ha='center',  # Center horizontally\n",
    "        va='top',  # Align below the top of the bar\n",
    "        fontsize=10,  # Font size\n",
    "        color='black'  # Text color\n",
    "    )\n",
    "\n",
    "\n",
    "# Add legend\n",
    "plt.legend(framealpha=0)\n",
    "\n",
    "# Customize x and y axis labels\n",
    "plt.xlabel('Month', fontsize=12)\n",
    "plt.ylabel('Relative humidity (min to max) [%]', fontsize=12)\n",
    "\n",
    "plt.ylim(0, 100)  # Set y-axis limits\n",
    "\n",
    "# Set x-ticks to month labels\n",
    "plt.xticks(ticks=clim.index, labels=[calendar.month_abbr[i] for i in clim.index])\n",
    "\n",
    "# Add title with custom font\n",
    "plt.title(f'Monthly Temperature Climatologies from {ERA_VERSION} ({date_range[0][:4]}-{date_range[1][:4]})', fontsize=14)\n",
    "\n",
    "# Show the plot\n",
    "plt.tight_layout()  # Adjust layout to prevent overlap\n",
    "plt.show()"
   ]
  },
  {
   "cell_type": "code",
   "execution_count": null,
   "metadata": {},
   "outputs": [],
   "source": []
  }
 ],
 "metadata": {
  "kernelspec": {
   "display_name": ".venv",
   "language": "python",
   "name": "python3"
  },
  "language_info": {
   "codemirror_mode": {
    "name": "ipython",
    "version": 3
   },
   "file_extension": ".py",
   "mimetype": "text/x-python",
   "name": "python",
   "nbconvert_exporter": "python",
   "pygments_lexer": "ipython3",
   "version": "3.13.0"
  }
 },
 "nbformat": 4,
 "nbformat_minor": 2
}
