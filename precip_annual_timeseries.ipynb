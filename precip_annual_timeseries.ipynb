{
 "cells": [
  {
   "cell_type": "code",
   "execution_count": 1,
   "metadata": {},
   "outputs": [],
   "source": [
    "from datetime import datetime\n",
    "import numpy as np\n",
    "import pandas as pd\n",
    "import xarray as xr\n",
    "import matplotlib.pyplot as plt\n",
    "import cdsapi\n",
    "\n",
    "ERA_VERSION = 'ERA5'"
   ]
  },
  {
   "cell_type": "code",
   "execution_count": 2,
   "metadata": {
    "tags": [
     "parameters"
    ]
   },
   "outputs": [],
   "source": [
    "# ====================\n",
    "# To get a CDS API key, sign up at https://cds.climate.copernicus.eu/\n",
    "# It is free and easy! After registering, copy your \"Personal Access Token here\"\n",
    "# ====================\n",
    "KEY = '############################'\n",
    "KEY = '6cc2b53b-e3c0-42fd-b7ad-db64aeeb5298'\n",
    "\n",
    "# ====================\n",
    "# Change these to plot different locations. You can see the currently used ones in the ERA Explorer URL\n",
    "# ====================\n",
    "lat = 50.86  # Default latitude\n",
    "lng = 4.35  # Default longitude"
   ]
  },
  {
   "cell_type": "code",
   "execution_count": null,
   "metadata": {},
   "outputs": [
    {
     "name": "stderr",
     "output_type": "stream",
     "text": [
      "2024-11-27 17:45:10,073 CRITICAL [2024-11-27T00:00:00] System is currently unavailable. Please follow updates [here](https://forum.ecmwf.int/t/cds-ads-and-ewds-down-until-further-notice/8015) and status [here](https://status.ecmwf.int/)\n",
      "2024-11-27 17:45:10,074 INFO [2024-09-28T00:00:00] **Welcome to the New Climate Data Store (CDS)!** This new system is in its early days of full operations and still undergoing enhancements and fine tuning. Some disruptions are to be expected. Your \n",
      "[feedback](https://jira.ecmwf.int/plugins/servlet/desk/portal/1/create/202) is key to improve the user experience on the new CDS for the benefit of everyone. Thank you.\n",
      "2024-11-27 17:45:10,074 INFO [2024-09-26T00:00:00] Watch our [Forum](https://forum.ecmwf.int/) for Announcements, news and other discussed topics.\n",
      "2024-11-27 17:45:10,075 INFO [2024-09-16T00:00:00] Remember that you need to have an ECMWF account to use the new CDS. **Your old CDS credentials will not work in new CDS!**\n",
      "2024-11-27 17:45:10,075 WARNING [2024-06-16T00:00:00] CDS API syntax is changed and some keys or parameter names may have also changed. To avoid requests failing, please use the \"Show API request code\" tool on the dataset Download Form to check you are using the correct syntax for your API request.\n",
      "2024-11-27 17:45:10,718 INFO Request ID is dfd1939e-8dbd-464b-9a63-2c9420e5357c\n",
      "2024-11-27 17:45:10,804 INFO status has been updated to accepted\n",
      "2024-11-27 17:45:11,874 INFO status has been updated to running\n",
      "2024-11-27 17:45:13,457 INFO status has been updated to successful\n",
      "                                                                                         \r"
     ]
    },
    {
     "data": {
      "text/plain": [
       "'test-adaptor-arco_tempAnn.nc'"
      ]
     },
     "execution_count": 3,
     "metadata": {},
     "output_type": "execute_result"
    }
   ],
   "source": [
    "# Define the URL for the CDS API\n",
    "URL = 'https://cads-mini-cci1.copernicus-climate.eu/api'\n",
    "\n",
    "# Define the dataset and request parameters\n",
    "dataset = \"test-adaptor-arco\"\n",
    "request = {\n",
    "    \"variable\": [\n",
    "        \"total_precipitation\",  # Variable to retrieve\n",
    "    ],\n",
    "    \"date\": [\"1940-01-01/2023-12-31\"],  # Date range for the data\n",
    "    \"location\": {\"longitude\": lng, \"latitude\": lat},  # Location coordinates\n",
    "    \"data_format\": \"netcdf\"  # Format of the retrieved data\n",
    "}\n",
    "\n",
    "# Define the filename for the data download\n",
    "timeseries_file = f\"{dataset}_precipAnn.nc\"\n",
    "\n",
    "# Initialize the CDS API client with the URL and API key\n",
    "client = cdsapi.Client(url=URL, key=KEY)\n",
    "\n",
    "# Retrieve the data from the CDS API and save it to the specified file\n",
    "client.retrieve(dataset, request, timeseries_file)"
   ]
  },
  {
   "cell_type": "code",
   "execution_count": 4,
   "metadata": {},
   "outputs": [],
   "source": [
    "# Make a function to compute the annual mean precipitation time series\n",
    "def precipAnnualTimeseries(x, y):\n",
    "    \"\"\"\n",
    "    Processes the annual precipitation timeseries for given coordinates.\n",
    "\n",
    "    This function reads a NetCDF dataset containing precipitation data, removes the incomplete year,\n",
    "    resamples the data to annual sums, and converts the values to millimeters.\n",
    "\n",
    "    Parameters:\n",
    "    x (float): The x-coordinate (longitude) of the location.\n",
    "    y (float): The y-coordinate (latitude) of the location.\n",
    "\n",
    "    Returns:\n",
    "    tuple: A tuple containing two elements:\n",
    "        - years (numpy.ndarray): An array of years corresponding to the annual precipitation sums.\n",
    "        - values (numpy.ndarray): An array of annual precipitation sums in millimeters.\n",
    "    \"\"\"\n",
    "\n",
    "    print(\"Processing precip annual timeseries for coordinates ({}, {})\".format(x, y))\n",
    "\n",
    "    data = xr.open_dataset(timeseries_file)\n",
    "    data_tp_pt = data.tp\n",
    "\n",
    "    # Remove incomplete year\n",
    "    current_year = datetime.now().year\n",
    "    timestamp_string = '{:d}-12-31 00:00:00'.format(current_year - 1)\n",
    "    cutoff_date = pd.Timestamp(timestamp_string)\n",
    "    data_tp_pt_trun = data_tp_pt.sel(valid_time=slice(None, cutoff_date))\n",
    "\n",
    "    # Resample the data to annual sums and convert to mm\n",
    "    data_tp_pt_agg = data_tp_pt_trun.resample(valid_time=\"YE\").sum() * 1000\n",
    "    years = data_tp_pt_agg.valid_time.to_index().year\n",
    "    values = data_tp_pt_agg.values.flatten()\n",
    "\n",
    "    return (years, values)"
   ]
  },
  {
   "cell_type": "code",
   "execution_count": 5,
   "metadata": {},
   "outputs": [
    {
     "name": "stdout",
     "output_type": "stream",
     "text": [
      "Processing precip annual timeseries for coordinates (4.35, 50.86)\n"
     ]
    }
   ],
   "source": [
    "# Call our function\n",
    "years1, ts1 = precipAnnualTimeseries(lng, lat)"
   ]
  },
  {
   "cell_type": "code",
   "execution_count": 14,
   "metadata": {},
   "outputs": [
    {
     "data": {
      "image/png": "[encoded data removed]",
      "text/plain": [
       "<Figure size 700x600 with 1 Axes>"
      ]
     },
     "metadata": {},
     "output_type": "display_data"
    }
   ],
   "source": [
    "# Make the plot\n",
    "lw = 2\n",
    "marker = 'o'\n",
    "markersize = 4\n",
    "\n",
    "latSuffix = 'N' if lat > 0 else 'S'\n",
    "lngSuffix = 'E' if lng > 0 else 'W'\n",
    "\n",
    "# Create a new figure\n",
    "plt.figure(figsize=(7, 6))\n",
    "\n",
    "# Plot the data as a bar chart\n",
    "plt.bar(\n",
    "    years1,\n",
    "    ts1,\n",
    "    width=1,\n",
    "    color='#596DAB',\n",
    "    label=f'{abs(lat):.2f} °{latSuffix:s}, {abs(lng):.2f} °{lngSuffix:s}',\n",
    "    edgecolor='white',\n",
    "    clip_on=False\n",
    ")\n",
    "# Add legend\n",
    "plt.legend(framealpha=0)\n",
    "\n",
    "# Set x-ticks to appear every 10 years and rotate them\n",
    "plt.xticks(np.arange(1940, 2026, 5), rotation=90)\n",
    "plt.xlim(1940-0.75, 2025)\n",
    "\n",
    "# Customize x and y axis labels\n",
    "plt.xlabel('Year', fontsize=12)\n",
    "plt.ylabel('Precipitation [mm/year]', fontsize=12)\n",
    "\n",
    "# Add title with custom font\n",
    "plt.title('Annual mean precipitation from {:s}'.format(ERA_VERSION), fontsize=14)\n",
    "\n",
    "# Show the plot\n",
    "plt.tight_layout()  # Adjust layout to prevent overlap\n",
    "plt.show()"
   ]
  },
  {
   "cell_type": "code",
   "execution_count": null,
   "metadata": {},
   "outputs": [],
   "source": []
  }
 ],
 "metadata": {
  "kernelspec": {
   "display_name": ".venv",
   "language": "python",
   "name": "python3"
  },
  "language_info": {
   "codemirror_mode": {
    "name": "ipython",
    "version": 3
   },
   "file_extension": ".py",
   "mimetype": "text/x-python",
   "name": "python",
   "nbconvert_exporter": "python",
   "pygments_lexer": "ipython3",
   "version": "3.13.0"
  }
 },
 "nbformat": 4,
 "nbformat_minor": 2
}
