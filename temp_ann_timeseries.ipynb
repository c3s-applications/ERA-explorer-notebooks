{
 "cells": [
  {
   "cell_type": "code",
   "execution_count": null,
   "metadata": {},
   "outputs": [],
   "source": [
    "from datetime import datetime\n",
    "import numpy as np\n",
    "import pandas as pd\n",
    "import xarray as xr\n",
    "import matplotlib.pyplot as plt"
   ]
  },
  {
   "cell_type": "code",
   "execution_count": null,
   "metadata": {
    "tags": [
     "parameters"
    ]
   },
   "outputs": [],
   "source": [
    "# ====================\n",
    "# Change these to plot different locations. You can see the currently used ones in the ERA Explorer URL\n",
    "# ====================\n",
    "lat = 50.0  # Default latitude\n",
    "lng = 0.0  # Default longitude\n",
    "latB = None  # Change to a number to make a comparison plot\n",
    "lngB = None  # Change to a number to make a comparison plot"
   ]
  },
  {
   "cell_type": "code",
   "execution_count": null,
   "metadata": {},
   "outputs": [],
   "source": [
    "ZARR_FILE = \"https://apps.copernicus-climate.eu/c3s-apps/era-explorer-server/zarr\"\n",
    "\n",
    "# Define climatology periods\n",
    "clim_year_start = 1991\n",
    "clim_year_end = 2020\n",
    "\n",
    "clim_year_stripes_start = 1961\n",
    "clim_year_stripes_end = 2010\n",
    "\n",
    "norm_stripes_start = 1940\n",
    "norm_stripes_end = 1999\n",
    "\n",
    "# Create slices for the climatology periods\n",
    "climatology_period = slice('{:d}-01-01'.format(clim_year_start), '{:d}-12-31'.format(clim_year_end))\n",
    "climatology_period_stripes = slice('{:d}-01-01'.format(clim_year_stripes_start), '{:d}-12-31'.format(clim_year_stripes_end))\n",
    "normalisation_period_stripes = slice('{:d}-01-01'.format(norm_stripes_start), '{:d}-12-31'.format(norm_stripes_end))  # Not the same as the clim period\n",
    "\n",
    "def temperatureAnnualTimeseries(x, y):\n",
    "    \"\"\"\n",
    "    Handles the temperature annual timeseries request.\n",
    "    This function processes a request to compute annual temperature statistics \n",
    "    for a given geographical location specified by latitude (x) and longitude (y). \n",
    "    The function supports both online and offline versions of data retrieval.\n",
    "    The function performs the following steps:\n",
    "    1. Retrieves query parameters from the request URL.\n",
    "    2. Loads the temperature data from a specified source.\n",
    "    3. Selects the temperature data for the specified location.\n",
    "    4. Computes annual temperature statistics and anomalies.\n",
    "    5. Converts the results to JSON format and returns them in the response.\n",
    "    Returns:\n",
    "        Response: A JSON response containing the annual temperature statistics \n",
    "                  including time, absolute values, anomalies, anomaly scaling, \n",
    "                  climatology period, and the specified coordinates.\n",
    "    \"\"\"\n",
    "    print(\"Processing temperature annual timeseries for coordinates ({}, {})\".format(x, y))\n",
    "\n",
    "    data = xr.open_zarr(ZARR_FILE)\n",
    "    data_t2m = data.t2m\n",
    "    data_t2m_pt = data_t2m.sel(latitude=y, longitude=x, method='nearest')  # Returns data array time series\n",
    "\n",
    "    # Remove incomplete year\n",
    "    current_year = datetime.now().year\n",
    "    timestamp_string = '{:d}-12-31 00:00:00'.format(current_year - 1)\n",
    "    cutoff_date = pd.Timestamp(timestamp_string)\n",
    "    data_t2m_pt_trun = data_t2m_pt.sel(time=slice(None, cutoff_date))\n",
    "\n",
    "    # Resample the data to annual means\n",
    "    data_t2m_pt_agg = data_t2m_pt_trun.resample(time=\"YE\").mean()\n",
    "    years = data_t2m_pt_agg.time.to_index().year\n",
    "    abs_values = (data_t2m_pt_agg - 273.15).values  # Convert from Kelvin to Celsius\n",
    "\n",
    "    return (years, abs_values)"
   ]
  },
  {
   "cell_type": "code",
   "execution_count": null,
   "metadata": {},
   "outputs": [],
   "source": [
    "gotA = ((lat is not None) and (lng is not None))\n",
    "gotB = ((latB is not None) and (lngB is not None))\n",
    "\n",
    "if gotA: years1, ts1 = temperatureAnnualTimeseries(lng, lat)\n",
    "if gotB: years2, ts2 = temperatureAnnualTimeseries(lngB, latB)"
   ]
  },
  {
   "cell_type": "code",
   "execution_count": null,
   "metadata": {},
   "outputs": [],
   "source": [
    "lw = 2\n",
    "marker = 'o'\n",
    "markersize = 4\n",
    "\n",
    "if gotA:\n",
    "    latSuffix = 'N' if lat > 0 else 'S'\n",
    "    lngSuffix = 'E' if lng > 0 else 'W'\n",
    "if gotB:\n",
    "    latBSuffix = 'N' if latB > 0 else 'S'\n",
    "    lngBSuffix = 'E' if lngB > 0 else 'W'\n",
    "\n",
    "# Plot the data\n",
    "if gotA: plt.plot(years1, ts1, marker=marker, markersize=markersize, label=f'{abs(lat):.2f} °{latSuffix:s}, {abs(lng):.2f} °{lngSuffix:s}', color='#CF7E92', lw=lw, clip_on=False)\n",
    "if gotB: plt.plot(years2, ts2, marker=marker, markersize=markersize, label=f'{abs(latB):.2f} °{latBSuffix:s}, {abs(lngB):.2f} °{lngBSuffix:s}', color='#941333', lw=lw, clip_on=False)\n",
    "\n",
    "# Add legend\n",
    "plt.legend(framealpha=0)\n",
    "\n",
    "# Set x-ticks to appear every 10 years and rotate them\n",
    "plt.xticks(np.arange(1940, 2026, 5), rotation=90)\n",
    "plt.xlim(1940, 2025)\n",
    "\n",
    "# Customize x and y axis labels\n",
    "plt.xlabel('Year', fontsize=12)\n",
    "plt.ylabel('Temperature [°C]', fontsize=12)\n",
    "\n",
    "# Add title with custom font\n",
    "plt.title('Annual mean temperature', fontsize=14)\n",
    "\n",
    "# Show the plot\n",
    "plt.tight_layout()  # Adjust layout to prevent overlap\n",
    "plt.show()"
   ]
  }
 ],
 "metadata": {
  "kernelspec": {
   "display_name": ".venv",
   "language": "python",
   "name": "python3"
  },
  "language_info": {
   "codemirror_mode": {
    "name": "ipython",
    "version": 3
   },
   "file_extension": ".py",
   "mimetype": "text/x-python",
   "name": "python",
   "nbconvert_exporter": "python",
   "pygments_lexer": "ipython3",
   "version": "3.13.0"
  }
 },
 "nbformat": 4,
 "nbformat_minor": 2
}
