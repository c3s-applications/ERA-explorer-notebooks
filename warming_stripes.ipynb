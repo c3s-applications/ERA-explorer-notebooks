{
 "cells": [
  {
   "cell_type": "code",
   "execution_count": 2,
   "metadata": {},
   "outputs": [
    {
     "name": "stdout",
     "output_type": "stream",
     "text": [
      "{'variable': ['2m_temperature'], 'date': ['1940-01-01/2023-12-31'], 'location': {'longitude': 4.35, 'latitude': 50.86}, 'data_format': 'netcdf'}\n",
      "2m_temperature_1940-01-01_2023-12-31_50.86_4.35.nc\n"
     ]
    },
    {
     "name": "stderr",
     "output_type": "stream",
     "text": [
      "2024-12-02 14:33:59,990 WARNING [2024-11-27T00:00:00] System is back on service under testing conditions. Please follow updates [here](https://forum.ecmwf.int/t/cds-ads-and-ewds-down-until-further-notice/8015) and status [here](https://status.ecmwf.int/)\n",
      "2024-12-02 14:33:59,991 INFO [2024-09-28T00:00:00] **Welcome to the New Climate Data Store (CDS)!** This new system is in its early days of full operations and still undergoing enhancements and fine tuning. Some disruptions are to be expected. Your \n",
      "[feedback](https://jira.ecmwf.int/plugins/servlet/desk/portal/1/create/202) is key to improve the user experience on the new CDS for the benefit of everyone. Thank you.\n",
      "2024-12-02 14:33:59,992 INFO [2024-09-26T00:00:00] Watch our [Forum](https://forum.ecmwf.int/) for Announcements, news and other discussed topics.\n",
      "2024-12-02 14:33:59,992 INFO [2024-09-16T00:00:00] Remember that you need to have an ECMWF account to use the new CDS. **Your old CDS credentials will not work in new CDS!**\n",
      "2024-12-02 14:33:59,992 WARNING [2024-06-16T00:00:00] CDS API syntax is changed and some keys or parameter names may have also changed. To avoid requests failing, please use the \"Show API request code\" tool on the dataset Download Form to check you are using the correct syntax for your API request.\n",
      "2024-12-02 14:34:00,446 INFO Request ID is 4fe741b4-a114-4c5f-95ef-375ec1abf1f4\n",
      "2024-12-02 14:34:00,528 INFO status has been updated to accepted\n",
      "2024-12-02 14:34:01,603 INFO status has been updated to running\n",
      "2024-12-02 14:34:03,170 INFO status has been updated to successful\n",
      "                                                                                         "
     ]
    },
    {
     "name": "stdout",
     "output_type": "stream",
     "text": [
      "Retrieving data in to:  2m_temperature_1940-01-01_2023-12-31_50.86_4.35.nc\n"
     ]
    },
    {
     "name": "stderr",
     "output_type": "stream",
     "text": [
      "\r"
     ]
    }
   ],
   "source": [
    "from datetime import datetime\n",
    "import numpy as np\n",
    "import pandas as pd\n",
    "import xarray as xr\n",
    "import matplotlib.pyplot as plt\n",
    "from utilities import retrieve_data\n",
    "from matplotlib.colors import ListedColormap, BoundaryNorm\n",
    "\n",
    "ERA_VERSION = 'ERA5'  # One day this will change to ERA6\n",
    "\n",
    "# ====================\n",
    "# To get a CDS API key, sign up at https://cds.climate.copernicus.eu/\n",
    "# It is free and easy! After registering, copy your \"Personal Access Token here\"\n",
    "# ====================\n",
    "KEY = '############################'\n",
    "KEY = '6cc2b53b-e3c0-42fd-b7ad-db64aeeb5298'\n",
    "\n",
    "# ====================\n",
    "# Change these to plot different locations. You can see the currently used ones in the ERA Explorer URL\n",
    "# ====================\n",
    "lat = 50.86  # Default latitude\n",
    "lng = 4.35  # Default longitude\n",
    "\n",
    "# ====================\n",
    "# These can be changed to get different data; leave them for now\n",
    "# ====================\n",
    "variable = \"2m_temperature\"\n",
    "date_range = [\"1940-01-01\", \"2023-12-31\"]\n",
    "\n",
    "# ====================\n",
    "# Get the data. This will download a NetCDF file\n",
    "# ====================\n",
    "data_file = retrieve_data(KEY, variable, date_range, lat, lng)"
   ]
  },
  {
   "cell_type": "code",
   "execution_count": 3,
   "metadata": {},
   "outputs": [],
   "source": [
    "# Make a function to compute the warming stripes\n",
    "def warmingStripes():\n",
    "    \"\"\"\n",
    "    Generates warming stripes data based on temperature anomalies.\n",
    "    This function processes temperature data to generate warming stripes, which are visual representations of temperature anomalies over time. The data is normalized and resampled to annual means, and anomalies are calculated relative to a climatology period.\n",
    "    Returns:\n",
    "        tuple: A tuple containing:\n",
    "            - years (list): List of years corresponding to the temperature data.\n",
    "            - stripes_values (numpy.ndarray): Normalized temperature anomalies for each year.\n",
    "    \"\"\"\n",
    "\n",
    "    clim_year_stripes_start = 1961\n",
    "    clim_year_stripes_end = 2010\n",
    "\n",
    "    norm_stripes_start = 1940\n",
    "    norm_stripes_end = 1999\n",
    "\n",
    "    climatology_period_stripes = slice('{:d}-01-01'.format(clim_year_stripes_start), '{:d}-12-31'.format(clim_year_stripes_end))\n",
    "    normalisation_period_stripes = slice('{:d}-01-01'.format(norm_stripes_start), '{:d}-12-31'.format(norm_stripes_end))  # Not the same as the clim period\n",
    "\n",
    "    data = xr.open_dataset(data_file)\n",
    "    data_t2m_pt = data.t2m\n",
    "\n",
    "    # Remove incomplete year\n",
    "    current_year = datetime.now().year\n",
    "    timestamp_string = '{:d}-12-31 00:00:00'.format(current_year - 1)\n",
    "    cutoff_date = pd.Timestamp(timestamp_string)\n",
    "    data_t2m_pt_trun = data_t2m_pt.sel(valid_time=slice(None, cutoff_date))\n",
    "\n",
    "    # Resample the data to annual means\n",
    "    data_t2m_pt_agg = data_t2m_pt_trun.resample(valid_time=\"YE\").mean()\n",
    "    years = data_t2m_pt_agg.valid_time.to_index().year.tolist()\n",
    "\n",
    "    # Calculate the standard deviation for normalization\n",
    "    data_t2m_pt_agg_std = data_t2m_pt_agg.sel(valid_time=normalisation_period_stripes).std()\n",
    "    scaling = (data_t2m_pt_agg_std * 3.0)\n",
    "    \n",
    "    # Calculate climatology and anomalies\n",
    "    data_t2m_pt_agg_clim1 = data_t2m_pt_agg.sel(valid_time=climatology_period_stripes).mean()\n",
    "    data_t2m_pt_agg_anom1 = data_t2m_pt_agg - data_t2m_pt_agg_clim1\n",
    "    data_t2m_pt_agg_anom_norm1 = data_t2m_pt_agg_anom1 / scaling\n",
    "    stripes_values = data_t2m_pt_agg_anom_norm1.values\n",
    "\n",
    "    return (years, stripes_values)\n",
    "\n",
    "# Call our function\n",
    "years1, ts1 = warmingStripes()"
   ]
  },
  {
   "cell_type": "code",
   "execution_count": 4,
   "metadata": {},
   "outputs": [
    {
     "data": {
      "image/png": "[encoded data removed]",
      "text/plain": [
       "<Figure size 800x400 with 1 Axes>"
      ]
     },
     "metadata": {},
     "output_type": "display_data"
    }
   ],
   "source": [
    "# Make the plot\n",
    "lw = 2\n",
    "marker = 'o'\n",
    "markersize = 4\n",
    "\n",
    "latSuffix = 'N' if lat > 0 else 'S'\n",
    "lngSuffix = 'E' if lng > 0 else 'W'\n",
    "\n",
    "# Custom stripe colors\n",
    "stripeColorsWhiteCentre = [\n",
    "    '#08306b', '#08519c', '#2171b5', '#4292c6',\n",
    "    '#6baed6', '#9ecae1', '#c6dbef', '#deebf7', '#ffffff',\n",
    "    '#fee0d2', '#fcbba1', '#fc9272', '#fb6a4a',\n",
    "    '#ef3b2c', '#cb181d', '#a50f15', '#67000d',\n",
    "]\n",
    "\n",
    "# Define the range and colormap\n",
    "vmin, vmax = -1, 1\n",
    "cmap = ListedColormap(stripeColorsWhiteCentre)\n",
    "norm = BoundaryNorm(\n",
    "    boundaries=np.linspace(vmin - 0.01, vmax + 0.01, len(stripeColorsWhiteCentre) + 1),\n",
    "    ncolors=len(stripeColorsWhiteCentre),\n",
    "    clip=True\n",
    ")\n",
    "\n",
    "# Create a new figure\n",
    "plt.figure(figsize=(8, 4))\n",
    "\n",
    "# Map data to colors (clamping values outside [-1, 1])\n",
    "colors = cmap(norm(np.clip(ts1, vmin, vmax)))\n",
    "\n",
    "# Plot the data as bars\n",
    "plt.bar(years1, height=1, width=1.0, color=colors, align='center', edgecolor='none')\n",
    "\n",
    "# Customize the x-ticks to appear every 5 years\n",
    "plt.xticks(np.arange(1940, 2100, 5), rotation=90)\n",
    "plt.xlim(years1[0], years1[-1])\n",
    "\n",
    "# Remove the y-axis ticks and labels for the #ShowYourStripes look\n",
    "plt.gca().yaxis.set_visible(False)\n",
    "\n",
    "# Add x-axis label and title\n",
    "plt.xlabel('Year', fontsize=12)\n",
    "plt.title(f'Warming stripes from {ERA_VERSION:s} for {abs(lat):.2f} °{latSuffix:s}, {abs(lng):.2f} °{lngSuffix:s}\\n#ShowYourStripes', fontsize=14)\n",
    "\n",
    "# Remove spines for a clean look\n",
    "for spine in plt.gca().spines.values():\n",
    "    spine.set_visible(False)\n",
    "\n",
    "# Show the plot\n",
    "plt.tight_layout()  # Adjust layout to prevent overlap\n",
    "plt.show()"
   ]
  },
  {
   "cell_type": "code",
   "execution_count": null,
   "metadata": {},
   "outputs": [],
   "source": []
  }
 ],
 "metadata": {
  "kernelspec": {
   "display_name": ".venv",
   "language": "python",
   "name": "python3"
  },
  "language_info": {
   "codemirror_mode": {
    "name": "ipython",
    "version": 3
   },
   "file_extension": ".py",
   "mimetype": "text/x-python",
   "name": "python",
   "nbconvert_exporter": "python",
   "pygments_lexer": "ipython3",
   "version": "3.13.0"
  }
 },
 "nbformat": 4,
 "nbformat_minor": 2
}
